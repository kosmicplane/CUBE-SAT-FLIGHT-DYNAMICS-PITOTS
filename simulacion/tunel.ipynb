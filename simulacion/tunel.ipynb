{
 "cells": [
  {
   "cell_type": "code",
   "execution_count": 37,
   "metadata": {},
   "outputs": [],
   "source": [
    "import serial, time\n",
    "import pandas as pd\n",
    "from IPython.display import clear_output\n",
    "import numpy as np"
   ]
  },
  {
   "cell_type": "code",
   "execution_count": null,
   "metadata": {},
   "outputs": [],
   "source": [
    "# Configuración del puerto serial\n",
    "puerto = 'COM5'  # Cambia por el puerto que estés usando\n",
    "baudios = 9600  # Ajusta la velocidad en baudios según tu dispositivo\n",
    "timeout = 1  # Tiempo de espera en segundos\n",
    "ser = serial.Serial(puerto, baudios, timeout=timeout)\n",
    "\n",
    "#definir las columnas\n",
    "column_names = [\"Pitot_1\",\"Pitot_2\", \"Pitot_3\", \"Pitot_4\"]#importante definir el numero de columnas con su respectivo nombre  \"Euler Angles\", \"imu_Aceleration\", \"GPS_coordinates\", \"Gps_Speed\"\n",
    "# Crear un DataFrame vacío\n",
    "datos = pd.DataFrame(columns=column_names)  # Ajusta las columna segun datos\n",
    "\n",
    "try:\n",
    "    while True:\n",
    "        # Leer datos del puerto serial\n",
    "        datos_linea = ser.readline().decode('utf-8').strip()  # Decodifica y elimina espacios\n",
    "\n",
    "        # Convertir datos a lista\n",
    "        datos_lista = datos_linea.split(',')  # Separa los datos por comas (ajustar según el separador)\n",
    "        \n",
    "        # Check if the number of values matches the columns\n",
    "        if len(datos_lista) != len(column_names):\n",
    "            print(f\"Warning: Received {len(datos_lista)} values, expected {len(column_names)}\")\n",
    "            continue  # Skip this iteration if data length doesn't match\n",
    "\n",
    "        # Create a new row as a DataFrame\n",
    "        nueva_fila = pd.DataFrame([datos_lista], columns=column_names) #\n",
    "        \n",
    "        # Concatenate the new row to the main DataFrame (corrected method)\n",
    "        datos = pd.concat([datos, nueva_fila], ignore_index=True)\n",
    "        datos[\"Pitot_1\",\"Pitot_2\", \"Pitot_3\", \"Pitot_4\"] = datos[\"Pitot_1\",\"Pitot_2\", \"Pitot_3\", \"Pitot_4\"].astype(float)\n",
    "        print(datos.iloc[-1])\n",
    "        clear_output(wait=True)\n",
    "except KeyboardInterrupt:\n",
    "    # Cerrar el puerto serial\n",
    "    ser.close()\n",
    "    print('Lectura de datos finalizada.')\n",
    "\n",
    "# Mostrar el DataFrame\n",
    "# Save the DataFrame to an Excel file\n",
    "filename = 'rocket_data.xlsx'\n",
    "datos.to_excel(filename, sheet_name='Tunnel Data')  # Optional: specify sheet name\n",
    "\n",
    "print(f'DataFrame saved to Excel file: {filename}')"
   ]
  }
 ],
 "metadata": {
  "kernelspec": {
   "display_name": "Python 3",
   "language": "python",
   "name": "python3"
  },
  "language_info": {
   "codemirror_mode": {
    "name": "ipython",
    "version": 3
   },
   "file_extension": ".py",
   "mimetype": "text/x-python",
   "name": "python",
   "nbconvert_exporter": "python",
   "pygments_lexer": "ipython3",
   "version": "3.11.9"
  }
 },
 "nbformat": 4,
 "nbformat_minor": 2
}
