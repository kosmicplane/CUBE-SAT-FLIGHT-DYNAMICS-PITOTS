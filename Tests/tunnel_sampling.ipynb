{
 "cells": [
  {
   "cell_type": "code",
   "execution_count": 1,
   "metadata": {},
   "outputs": [],
   "source": [
    "import serial, time\n",
    "import pandas as pd\n",
    "from IPython.display import clear_output\n",
    "import numpy as np\n",
    "from datetime import datetime"
   ]
  },
  {
   "cell_type": "code",
   "execution_count": 5,
   "metadata": {},
   "outputs": [
    {
     "name": "stdout",
     "output_type": "stream",
     "text": [
      "Lectura de datos finalizada.\n"
     ]
    },
    {
     "name": "stdout",
     "output_type": "stream",
     "text": [
      "DataFrame saved to Excel file: prueba_tunel_2025-01-15_15-57-53.xlsx\n"
     ]
    }
   ],
   "source": [
    "# Configuración del puerto serial\n",
    "puerto = '/dev/ttyACM0' #'COM7'  # Cambia por el puerto que estés usando\n",
    "baudios = 9600  # Verificar\n",
    "timeout = 1  # Tiempo de espera en segundos\n",
    "ser = serial.Serial(puerto, baudios, timeout=timeout)\n",
    "\n",
    "# Definir las columnas\n",
    "column_names = [\"Presion_1\", \"Presion_2\", \"Presion_3\", \"Presion_4\", \"Temperatura_1\", \"Temperatura_2\", \"Temperatura_3\", \"Temperatura_4\", \"Timestamp\"]\n",
    "\n",
    "# Crear un DataFrame vacío\n",
    "datos = pd.DataFrame(columns=column_names)\n",
    "\n",
    "try:\n",
    "    while True:\n",
    "        # Leer datos del puerto serial\n",
    "        datos_linea = ser.readline().decode('utf-8').strip()  # Decodifica y elimina espacios\n",
    "\n",
    "        # Convertir datos a lista\n",
    "        datos_lista = datos_linea.split(',')  # Separa los datos por comas (ajustar según el separador)\n",
    "\n",
    "        # Verificar si el número de valores coincide con las columnas sin incluir el tiempo\n",
    "        if len(datos_lista) == 1:\n",
    "            continue\n",
    "\n",
    "        if len(datos_lista) != len(column_names) - 1:  # Excluir la columna de tiempo para la comparación\n",
    "            print(f\"Warning: Received {len(datos_lista)} values, expected {len(column_names) - 1}\")\n",
    "            continue  # Omitir esta iteración si la longitud de datos no coincide\n",
    "\n",
    "        # Añadir marca de tiempo a los datos\n",
    "        timestamp = datetime.now().strftime('%Y-%m-%d %H:%M:%S')  # Formato de tiempo legible\n",
    "        datos_lista.append(timestamp)\n",
    "\n",
    "        # Crear una nueva fila como un DataFrame\n",
    "        nueva_fila = pd.DataFrame([datos_lista], columns=column_names)\n",
    "\n",
    "        # Concatenar la nueva fila al DataFrame principal\n",
    "        datos = pd.concat([datos, nueva_fila], ignore_index=True)\n",
    "\n",
    "        # Convertir las columnas numéricas a tipo float\n",
    "        datos[[\"Presion_1\", \"Presion_2\", \"Presion_3\", \"Presion_4\", \"Temperatura_1\", \"Temperatura_2\", \"Temperatura_3\", \"Temperatura_4\"]] = datos[[\"Presion_1\", \"Presion_2\", \"Presion_3\", \"Presion_4\", \"Temperatura_1\", \"Temperatura_2\", \"Temperatura_3\", \"Temperatura_4\"]].astype(float)\n",
    "\n",
    "        # Mostrar la última fila registrada\n",
    "        print(datos.iloc[-1])\n",
    "        clear_output(wait=True)\n",
    "except KeyboardInterrupt:\n",
    "    # Cerrar el puerto serial\n",
    "    ser.close()\n",
    "    print('Lectura de datos finalizada.')\n",
    "\n",
    "# Guardar el DataFrame en un archivo Excel con la fecha y hora incluida en el nombre\n",
    "fecha_actual = datetime.now().strftime('%Y-%m-%d_%H-%M-%S')\n",
    "filename = f'prueba_tunel_{fecha_actual}.xlsx'\n",
    "datos.to_excel(filename, sheet_name='Tunnel Data', index=False)  # Opcional: especificar nombre de la hoja\n",
    "\n",
    "print(f'DataFrame saved to Excel file: {filename}')"
   ]
  }
 ],
 "metadata": {
  "kernelspec": {
   "display_name": "Python 3",
   "language": "python",
   "name": "python3"
  },
  "language_info": {
   "codemirror_mode": {
    "name": "ipython",
    "version": 3
   },
   "file_extension": ".py",
   "mimetype": "text/x-python",
   "name": "python",
   "nbconvert_exporter": "python",
   "pygments_lexer": "ipython3",
   "version": "3.10.12"
  }
 },
 "nbformat": 4,
 "nbformat_minor": 2
}
